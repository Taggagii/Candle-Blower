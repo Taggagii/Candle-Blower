{
 "cells": [
  {
   "cell_type": "code",
   "execution_count": 31,
   "id": "9f42007e",
   "metadata": {},
   "outputs": [],
   "source": [
    "import numpy as np\n",
    "import os\n",
    "import PIL\n",
    "import PIL.Image\n",
    "import tensorflow as tf"
   ]
  },
  {
   "cell_type": "code",
   "execution_count": 32,
   "id": "52cd896a",
   "metadata": {},
   "outputs": [
    {
     "name": "stdout",
     "output_type": "stream",
     "text": [
      "2.5.0\n"
     ]
    }
   ],
   "source": [
    "print(tf.__version__)"
   ]
  },
  {
   "cell_type": "code",
   "execution_count": 33,
   "id": "19f09375",
   "metadata": {},
   "outputs": [],
   "source": [
    "import pathlib\n",
    "data_dir = pathlib.Path(\"camera_interface/img/\")"
   ]
  },
  {
   "cell_type": "code",
   "execution_count": 34,
   "id": "21598754",
   "metadata": {},
   "outputs": [
    {
     "data": {
      "text/plain": [
       "2978"
      ]
     },
     "execution_count": 34,
     "metadata": {},
     "output_type": "execute_result"
    }
   ],
   "source": [
    "len(list(data_dir.glob('*/*.png')))"
   ]
  },
  {
   "cell_type": "code",
   "execution_count": 35,
   "id": "4d7c601e",
   "metadata": {},
   "outputs": [],
   "source": [
    "batch_size = 32\n",
    "img_height = 180\n",
    "img_width = 180"
   ]
  },
  {
   "cell_type": "code",
   "execution_count": 36,
   "id": "a734cfaa",
   "metadata": {},
   "outputs": [
    {
     "name": "stdout",
     "output_type": "stream",
     "text": [
      "Found 2978 files belonging to 2 classes.\n",
      "Using 2383 files for training.\n"
     ]
    }
   ],
   "source": [
    "train_ds = tf.keras.preprocessing.image_dataset_from_directory(\n",
    "  data_dir,\n",
    "  validation_split=0.2,\n",
    "  subset=\"training\",\n",
    "  seed=123,\n",
    "  image_size=(img_height, img_width),\n",
    "  batch_size=batch_size)"
   ]
  },
  {
   "cell_type": "code",
   "execution_count": 37,
   "id": "47deb34c",
   "metadata": {},
   "outputs": [
    {
     "name": "stdout",
     "output_type": "stream",
     "text": [
      "Found 2978 files belonging to 2 classes.\n",
      "Using 595 files for validation.\n"
     ]
    }
   ],
   "source": [
    "val_ds = tf.keras.preprocessing.image_dataset_from_directory(\n",
    "  data_dir,\n",
    "  validation_split=0.2,\n",
    "  subset=\"validation\",\n",
    "  seed=123,\n",
    "  image_size=(img_height, img_width),\n",
    "  batch_size=batch_size)\n"
   ]
  },
  {
   "cell_type": "code",
   "execution_count": 38,
   "id": "f569a24f",
   "metadata": {},
   "outputs": [
    {
     "name": "stdout",
     "output_type": "stream",
     "text": [
      "['0', '1']\n"
     ]
    }
   ],
   "source": [
    "class_names = train_ds.class_names\n",
    "print(class_names)"
   ]
  },
  {
   "cell_type": "code",
   "execution_count": 39,
   "id": "da9862c7",
   "metadata": {},
   "outputs": [
    {
     "data": {
      "image/png": "[encoded data removed]",
      "text/plain": [
       "<Figure size 720x720 with 9 Axes>"
      ]
     },
     "metadata": {
      "needs_background": "light"
     },
     "output_type": "display_data"
    }
   ],
   "source": [
    "import matplotlib.pyplot as plt\n",
    "\n",
    "plt.figure(figsize=(10, 10))\n",
    "for images, labels in train_ds.take(1):\n",
    "  for i in range(9):\n",
    "    ax = plt.subplot(3, 3, i + 1)\n",
    "    plt.imshow(images[i].numpy().astype(\"uint8\"))\n",
    "    plt.title(class_names[labels[i]])\n",
    "    plt.axis(\"off\")\n"
   ]
  },
  {
   "cell_type": "code",
   "execution_count": 40,
   "id": "7282cf0e",
   "metadata": {},
   "outputs": [
    {
     "name": "stdout",
     "output_type": "stream",
     "text": [
      "(32, 180, 180, 3)\n",
      "(32,)\n"
     ]
    }
   ],
   "source": [
    "for image_batch, labels_batch in train_ds:\n",
    "  print(image_batch.shape)\n",
    "  print(labels_batch.shape)\n",
    "  break"
   ]
  },
  {
   "cell_type": "code",
   "execution_count": 41,
   "id": "723ac932",
   "metadata": {},
   "outputs": [],
   "source": [
    "normalization_layer = tf.keras.layers.experimental.preprocessing.Rescaling(1./255)"
   ]
  },
  {
   "cell_type": "code",
   "execution_count": 42,
   "id": "8574cdca",
   "metadata": {},
   "outputs": [
    {
     "name": "stdout",
     "output_type": "stream",
     "text": [
      "0.0 1.0\n"
     ]
    }
   ],
   "source": [
    "normalized_ds = train_ds.map(lambda x, y: (normalization_layer(x), y))\n",
    "image_batch, labels_batch = next(iter(normalized_ds))\n",
    "first_image = image_batch[0]\n",
    "# Notice the pixels values are now in `[0,1]`.\n",
    "print(np.min(first_image), np.max(first_image))"
   ]
  },
  {
   "cell_type": "code",
   "execution_count": 43,
   "id": "f32187c1",
   "metadata": {},
   "outputs": [],
   "source": [
    "AUTOTUNE = tf.data.AUTOTUNE\n",
    "\n",
    "train_ds = train_ds.cache().prefetch(buffer_size=AUTOTUNE)\n",
    "val_ds = val_ds.cache().prefetch(buffer_size=AUTOTUNE)\n"
   ]
  },
  {
   "cell_type": "code",
   "execution_count": 44,
   "id": "d3c1a25a",
   "metadata": {},
   "outputs": [],
   "source": [
    "num_classes = 2\n",
    "\n",
    "model = tf.keras.Sequential([\n",
    "  tf.keras.layers.experimental.preprocessing.Rescaling(1./255),\n",
    "  tf.keras.layers.Conv2D(32, 3, activation='relu'),\n",
    "  tf.keras.layers.MaxPooling2D(),\n",
    "  tf.keras.layers.Conv2D(32, 3, activation='relu'),\n",
    "  tf.keras.layers.MaxPooling2D(),\n",
    "  tf.keras.layers.Conv2D(32, 3, activation='relu'),\n",
    "  tf.keras.layers.MaxPooling2D(),\n",
    "  tf.keras.layers.Flatten(),\n",
    "  tf.keras.layers.Dense(128, activation='relu'),\n",
    "  tf.keras.layers.Dense(num_classes)\n",
    "])\n"
   ]
  },
  {
   "cell_type": "code",
   "execution_count": 45,
   "id": "16f06b6b",
   "metadata": {},
   "outputs": [],
   "source": [
    "model.compile(\n",
    "  optimizer='adam',\n",
    "  loss=tf.losses.SparseCategoricalCrossentropy(from_logits=True),\n",
    "  metrics=['accuracy'])\n"
   ]
  },
  {
   "cell_type": "code",
   "execution_count": 46,
   "id": "c8abe9ff",
   "metadata": {},
   "outputs": [
    {
     "name": "stdout",
     "output_type": "stream",
     "text": [
      "Epoch 1/3\n",
      "75/75 [==============================] - 46s 616ms/step - loss: 0.1894 - accuracy: 0.9362 - val_loss: 0.0516 - val_accuracy: 0.9798\n",
      "Epoch 2/3\n",
      "75/75 [==============================] - 51s 677ms/step - loss: 0.0449 - accuracy: 0.9870 - val_loss: 0.0500 - val_accuracy: 0.9815\n",
      "Epoch 3/3\n",
      "75/75 [==============================] - 51s 675ms/step - loss: 0.0198 - accuracy: 0.9941 - val_loss: 0.0389 - val_accuracy: 0.9899\n"
     ]
    },
    {
     "data": {
      "text/plain": [
       "<tensorflow.python.keras.callbacks.History at 0x7fa8b9f232b0>"
      ]
     },
     "execution_count": 46,
     "metadata": {},
     "output_type": "execute_result"
    }
   ],
   "source": [
    "model.fit(\n",
    "  train_ds,\n",
    "  validation_data=val_ds,\n",
    "  epochs=3\n",
    ")\n"
   ]
  },
  {
   "cell_type": "code",
   "execution_count": 61,
   "id": "d26da72d",
   "metadata": {},
   "outputs": [],
   "source": [
    "model.save(\"model.h5\")"
   ]
  },
  {
   "cell_type": "code",
   "execution_count": 57,
   "id": "881c2281",
   "metadata": {},
   "outputs": [
    {
     "data": {
      "text/plain": [
       "array([[15.261213 , -8.4932   ],\n",
       "       [-6.873396 ,  6.7214584],\n",
       "       [ 6.144649 , -3.5079007]], dtype=float32)"
      ]
     },
     "execution_count": 57,
     "metadata": {},
     "output_type": "execute_result"
    }
   ],
   "source": [
    "model.predict(tf.reshape(images[0:3], (3, 180, 180, 3)))"
   ]
  },
  {
   "cell_type": "code",
   "execution_count": 53,
   "id": "2dd81005",
   "metadata": {},
   "outputs": [
    {
     "data": {
      "text/plain": [
       "TensorShape([180, 180, 3])"
      ]
     },
     "execution_count": 53,
     "metadata": {},
     "output_type": "execute_result"
    }
   ],
   "source": [
    "images[0].shape"
   ]
  },
  {
   "cell_type": "code",
   "execution_count": 55,
   "id": "ddcf2ad8",
   "metadata": {},
   "outputs": [
    {
     "data": {
      "text/plain": [
       "TensorShape([1, 180, 180, 3])"
      ]
     },
     "execution_count": 55,
     "metadata": {},
     "output_type": "execute_result"
    }
   ],
   "source": [
    "tf.reshape(images[0], (1, 180, 180, 3)).shape"
   ]
  },
  {
   "cell_type": "code",
   "execution_count": 54,
   "id": "a745f4bb",
   "metadata": {},
   "outputs": [
    {
     "name": "stdout",
     "output_type": "stream",
     "text": [
      "Help on function reshape in module tensorflow.python.ops.array_ops:\n",
      "\n",
      "reshape(tensor, shape, name=None)\n",
      "    Reshapes a tensor.\n",
      "    \n",
      "    Given `tensor`, this operation returns a new `tf.Tensor` that has the same\n",
      "    values as `tensor` in the same order, except with a new shape given by\n",
      "    `shape`.\n",
      "    \n",
      "    >>> t1 = [[1, 2, 3],\n",
      "    ...       [4, 5, 6]]\n",
      "    >>> print(tf.shape(t1).numpy())\n",
      "    [2 3]\n",
      "    >>> t2 = tf.reshape(t1, [6])\n",
      "    >>> t2\n",
      "    <tf.Tensor: shape=(6,), dtype=int32,\n",
      "      numpy=array([1, 2, 3, 4, 5, 6], dtype=int32)>\n",
      "    >>> tf.reshape(t2, [3, 2])\n",
      "    <tf.Tensor: shape=(3, 2), dtype=int32, numpy=\n",
      "      array([[1, 2],\n",
      "             [3, 4],\n",
      "             [5, 6]], dtype=int32)>\n",
      "    \n",
      "    The `tf.reshape` does not change the order of or the total number of elements\n",
      "    in the tensor, and so it can reuse the underlying data buffer. This makes it\n",
      "    a fast operation independent of how big of a tensor it is operating on.\n",
      "    \n",
      "    >>> tf.reshape([1, 2, 3], [2, 2])\n",
      "    Traceback (most recent call last):\n",
      "    ...\n",
      "    InvalidArgumentError: Input to reshape is a tensor with 3 values, but the\n",
      "    requested shape has 4\n",
      "    \n",
      "    To instead reorder the data to rearrange the dimensions of a tensor, see\n",
      "    `tf.transpose`.\n",
      "    \n",
      "    >>> t = [[1, 2, 3],\n",
      "    ...      [4, 5, 6]]\n",
      "    >>> tf.reshape(t, [3, 2]).numpy()\n",
      "    array([[1, 2],\n",
      "           [3, 4],\n",
      "           [5, 6]], dtype=int32)\n",
      "    >>> tf.transpose(t, perm=[1, 0]).numpy()\n",
      "    array([[1, 4],\n",
      "           [2, 5],\n",
      "           [3, 6]], dtype=int32)\n",
      "    \n",
      "    If one component of `shape` is the special value -1, the size of that\n",
      "    dimension is computed so that the total size remains constant.  In particular,\n",
      "    a `shape` of `[-1]` flattens into 1-D.  At most one component of `shape` can\n",
      "    be -1.\n",
      "    \n",
      "    >>> t = [[1, 2, 3],\n",
      "    ...      [4, 5, 6]]\n",
      "    >>> tf.reshape(t, [-1])\n",
      "    <tf.Tensor: shape=(6,), dtype=int32,\n",
      "      numpy=array([1, 2, 3, 4, 5, 6], dtype=int32)>\n",
      "    >>> tf.reshape(t, [3, -1])\n",
      "    <tf.Tensor: shape=(3, 2), dtype=int32, numpy=\n",
      "      array([[1, 2],\n",
      "             [3, 4],\n",
      "             [5, 6]], dtype=int32)>\n",
      "    >>> tf.reshape(t, [-1, 2])\n",
      "    <tf.Tensor: shape=(3, 2), dtype=int32, numpy=\n",
      "      array([[1, 2],\n",
      "             [3, 4],\n",
      "             [5, 6]], dtype=int32)>\n",
      "    \n",
      "    `tf.reshape(t, [])` reshapes a tensor `t` with one element to a scalar.\n",
      "    \n",
      "    >>> tf.reshape([7], []).numpy()\n",
      "    7\n",
      "    \n",
      "    More examples:\n",
      "    \n",
      "    >>> t = [1, 2, 3, 4, 5, 6, 7, 8, 9]\n",
      "    >>> print(tf.shape(t).numpy())\n",
      "    [9]\n",
      "    >>> tf.reshape(t, [3, 3])\n",
      "    <tf.Tensor: shape=(3, 3), dtype=int32, numpy=\n",
      "      array([[1, 2, 3],\n",
      "             [4, 5, 6],\n",
      "             [7, 8, 9]], dtype=int32)>\n",
      "    \n",
      "    >>> t = [[[1, 1], [2, 2]],\n",
      "    ...      [[3, 3], [4, 4]]]\n",
      "    >>> print(tf.shape(t).numpy())\n",
      "    [2 2 2]\n",
      "    >>> tf.reshape(t, [2, 4])\n",
      "    <tf.Tensor: shape=(2, 4), dtype=int32, numpy=\n",
      "      array([[1, 1, 2, 2],\n",
      "             [3, 3, 4, 4]], dtype=int32)>\n",
      "    \n",
      "    >>> t = [[[1, 1, 1],\n",
      "    ...       [2, 2, 2]],\n",
      "    ...      [[3, 3, 3],\n",
      "    ...       [4, 4, 4]],\n",
      "    ...      [[5, 5, 5],\n",
      "    ...       [6, 6, 6]]]\n",
      "    >>> print(tf.shape(t).numpy())\n",
      "    [3 2 3]\n",
      "    >>> # Pass '[-1]' to flatten 't'.\n",
      "    >>> tf.reshape(t, [-1])\n",
      "    <tf.Tensor: shape=(18,), dtype=int32,\n",
      "      numpy=array([1, 1, 1, 2, 2, 2, 3, 3, 3, 4, 4, 4, 5, 5, 5, 6, 6, 6],\n",
      "      dtype=int32)>\n",
      "    >>> # -- Using -1 to infer the shape --\n",
      "    >>> # Here -1 is inferred to be 9:\n",
      "    >>> tf.reshape(t, [2, -1])\n",
      "    <tf.Tensor: shape=(2, 9), dtype=int32, numpy=\n",
      "      array([[1, 1, 1, 2, 2, 2, 3, 3, 3],\n",
      "             [4, 4, 4, 5, 5, 5, 6, 6, 6]], dtype=int32)>\n",
      "    >>> # -1 is inferred to be 2:\n",
      "    >>> tf.reshape(t, [-1, 9])\n",
      "    <tf.Tensor: shape=(2, 9), dtype=int32, numpy=\n",
      "      array([[1, 1, 1, 2, 2, 2, 3, 3, 3],\n",
      "             [4, 4, 4, 5, 5, 5, 6, 6, 6]], dtype=int32)>\n",
      "    >>> # -1 is inferred to be 3:\n",
      "    >>> tf.reshape(t, [ 2, -1, 3])\n",
      "    <tf.Tensor: shape=(2, 3, 3), dtype=int32, numpy=\n",
      "      array([[[1, 1, 1],\n",
      "              [2, 2, 2],\n",
      "              [3, 3, 3]],\n",
      "             [[4, 4, 4],\n",
      "              [5, 5, 5],\n",
      "              [6, 6, 6]]], dtype=int32)>\n",
      "    \n",
      "    Args:\n",
      "      tensor: A `Tensor`.\n",
      "      shape: A `Tensor`. Must be one of the following types: `int32`, `int64`.\n",
      "        Defines the shape of the output tensor.\n",
      "      name: Optional string. A name for the operation.\n",
      "    \n",
      "    Returns:\n",
      "      A `Tensor`. Has the same type as `tensor`.\n",
      "\n"
     ]
    }
   ],
   "source": [
    "help(tf.reshape)"
   ]
  },
  {
   "cell_type": "code",
   "execution_count": 58,
   "id": "c0b08784",
   "metadata": {},
   "outputs": [],
   "source": [
    "new_model = tf.keras.models.load_model('model')"
   ]
  },
  {
   "cell_type": "code",
   "execution_count": 59,
   "id": "d4c84e06",
   "metadata": {},
   "outputs": [
    {
     "name": "stdout",
     "output_type": "stream",
     "text": [
      "Model: \"sequential_1\"\n",
      "_________________________________________________________________\n",
      "Layer (type)                 Output Shape              Param #   \n",
      "=================================================================\n",
      "rescaling_3 (Rescaling)      (None, 180, 180, 3)       0         \n",
      "_________________________________________________________________\n",
      "conv2d_3 (Conv2D)            (None, 178, 178, 32)      896       \n",
      "_________________________________________________________________\n",
      "max_pooling2d_3 (MaxPooling2 (None, 89, 89, 32)        0         \n",
      "_________________________________________________________________\n",
      "conv2d_4 (Conv2D)            (None, 87, 87, 32)        9248      \n",
      "_________________________________________________________________\n",
      "max_pooling2d_4 (MaxPooling2 (None, 43, 43, 32)        0         \n",
      "_________________________________________________________________\n",
      "conv2d_5 (Conv2D)            (None, 41, 41, 32)        9248      \n",
      "_________________________________________________________________\n",
      "max_pooling2d_5 (MaxPooling2 (None, 20, 20, 32)        0         \n",
      "_________________________________________________________________\n",
      "flatten_1 (Flatten)          (None, 12800)             0         \n",
      "_________________________________________________________________\n",
      "dense_2 (Dense)              (None, 128)               1638528   \n",
      "_________________________________________________________________\n",
      "dense_3 (Dense)              (None, 2)                 258       \n",
      "=================================================================\n",
      "Total params: 1,658,178\n",
      "Trainable params: 1,658,178\n",
      "Non-trainable params: 0\n",
      "_________________________________________________________________\n"
     ]
    }
   ],
   "source": [
    "new_model.summary()"
   ]
  },
  {
   "cell_type": "code",
   "execution_count": 60,
   "id": "0a297fae",
   "metadata": {},
   "outputs": [
    {
     "data": {
      "text/plain": [
       "array([[15.261215, -8.493198]], dtype=float32)"
      ]
     },
     "execution_count": 60,
     "metadata": {},
     "output_type": "execute_result"
    }
   ],
   "source": [
    "new_model.predict(tf.reshape(images[0], (1, 180, 180, 3)))"
   ]
  },
  {
   "cell_type": "code",
   "execution_count": null,
   "id": "c7420beb",
   "metadata": {},
   "outputs": [],
   "source": []
  }
 ],
 "metadata": {
  "kernelspec": {
   "display_name": "Python 3",
   "language": "python",
   "name": "python3"
  },
  "language_info": {
   "codemirror_mode": {
    "name": "ipython",
    "version": 3
   },
   "file_extension": ".py",
   "mimetype": "text/x-python",
   "name": "python",
   "nbconvert_exporter": "python",
   "pygments_lexer": "ipython3",
   "version": "3.8.10"
  }
 },
 "nbformat": 4,
 "nbformat_minor": 5
}
